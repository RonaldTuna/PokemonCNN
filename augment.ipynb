{
  "cells": [
    {
      "cell_type": "markdown",
      "metadata": {
        "id": "view-in-github",
        "colab_type": "text"
      },
      "source": [
        "<a href=\"https://colab.research.google.com/github/RonaldTuna/PokemonCNN/blob/main/augment.ipynb\" target=\"_parent\"><img src=\"https://colab.research.google.com/assets/colab-badge.svg\" alt=\"Open In Colab\"/></a>"
      ]
    },
    {
      "cell_type": "code",
      "execution_count": null,
      "metadata": {
        "id": "_MhP_7hZyp4w"
      },
      "outputs": [],
      "source": [
        "from PIL import Image\n",
        "from skimage import data\n",
        "from skimage import exposure\n",
        "from skimage import io\n",
        "from skimage.util import random_noise\n",
        "from scipy import ndimage\n",
        "import numpy as np\n",
        "import os, sys\n",
        "import warnings"
      ]
    },
    {
      "cell_type": "code",
      "execution_count": null,
      "metadata": {
        "id": "81_t8g7oyp4y"
      },
      "outputs": [],
      "source": [
        "\"\"\"\n",
        "Resizes images in a directory to the specified height and width.\n",
        "Saves each new image as a .jpg file with a 'resized' in its name.\n",
        "\"\"\"\n",
        "def resize(width, height, path, dirs):\n",
        "    for item in dirs:\n",
        "        if os.path.isfile(path + item) and '.jpg' in item or '.png' in item:\n",
        "            im = Image.open(path + item)\n",
        "            f, e = os.path.splitext(path + item)\n",
        "            # Convert to RGB\n",
        "            im = im.convert('RGB')\n",
        "            # Resize\n",
        "            imResize = im.resize((width, height), Image.ANTIALIAS)\n",
        "            imResize.save(f + '_resized.jpg', 'JPEG', quality=90)\n",
        "            \n",
        "def flip(path, dirs):    \n",
        "    for item in dirs:\n",
        "        if os.path.isfile(path + item) and '.jpg' in item or '.png' in item:\n",
        "            im = Image.open(path + item)\n",
        "            \n",
        "            f, e = os.path.splitext(path + item)\n",
        "            # Convert to RGB\n",
        "            im = im.convert('RGB')\n",
        "            # augment\n",
        "            # flip left to right\n",
        "            imResize = im.transpose(Image.FLIP_LEFT_RIGHT)\n",
        "            imResize.save(f + '_flipped.jpg', 'JPEG', quality=90)\n",
        "\n",
        "def aug(path, dirs):\n",
        "    \"\"\" convert PIL-like RGB tuple (0 .. 255) to colorsys-like\n",
        "    HSL tuple (0.0 .. 1.0) \"\"\"\n",
        "    for item in dirs:\n",
        "        if os.path.isfile(path + item) and '.jpg' in item or '.png' in item:\n",
        "            im = io.imread(path + item)\n",
        "            f, e = os.path.splitext(path + item)\n",
        "\n",
        "            log_correction_image = random_noise(im)\n",
        "            io.imsave(f + '_noise.png', log_correction_image)\n",
        "            \n",
        "            adjusted_gamma_image = exposure.adjust_gamma(im, gamma=0.4, gain=0.9)\n",
        "            io.imsave(f + '_gamma.png', adjusted_gamma_image)\n",
        "            \n",
        "            blured_image = ndimage.uniform_filter(im)\n",
        "            io.imsave(f + '_blur.png', blured_image)\n",
        "\n",
        "            \n",
        "def noise(path, dirs):\n",
        "    \"\"\" convert PIL-like RGB tuple (0 .. 255) to colorsys-like\n",
        "    HSL tuple (0.0 .. 1.0) \"\"\"\n",
        "    for item in dirs:\n",
        "        if os.path.isfile(path + item) and '.jpg' in item or '.png' in item:\n",
        "            im = io.imread(path + item)\n",
        "            f, e = os.path.splitext(path + item)\n",
        "\n",
        "            log_correction_image = random_noise(im)\n",
        "            io.imsave(f + '_noise.png', log_correction_image)\n",
        "            \n",
        "\n",
        "def gamma(path, dirs):\n",
        "    \"\"\" convert PIL-like RGB tuple (0 .. 255) to colorsys-like\n",
        "    HSL tuple (0.0 .. 1.0) \"\"\"\n",
        "    for item in dirs:\n",
        "        if os.path.isfile(path + item) and '.jpg' in item or '.png' in item:\n",
        "            im = io.imread(path + item)\n",
        "            f, e = os.path.splitext(path + item)\n",
        "\n",
        "            adjusted_gamma_image = exposure.adjust_gamma(im, gamma=0.4, gain=0.9)\n",
        "            io.imsave(f + '_gamma.png', adjusted_gamma_image)\n",
        "            \n",
        "def blur(path, dirs):\n",
        "    \"\"\" convert PIL-like RGB tuple (0 .. 255) to colorsys-like\n",
        "    HSL tuple (0.0 .. 1.0) \"\"\"\n",
        "    for item in dirs:\n",
        "        if os.path.isfile(path + item) and '.jpg' in item or '.png' in item:\n",
        "            im = io.imread(path + item)\n",
        "            f, e = os.path.splitext(path + item)\n",
        "\n",
        "            blured_image = ndimage.uniform_filter(im)\n",
        "            io.imsave(f + '_blur.png', blured_image)\n"
      ]
    },
    {
      "cell_type": "markdown",
      "metadata": {
        "id": "bYYD_j30yp41"
      },
      "source": [
        "## Test"
      ]
    },
    {
      "cell_type": "code",
      "execution_count": null,
      "metadata": {
        "scrolled": true,
        "id": "Hl0JRKykyp42",
        "outputId": "82f054fd-70b9-4dbd-ba24-79f19f9d03a3"
      },
      "outputs": [
        {
          "ename": "FileNotFoundError",
          "evalue": "[WinError 3] The system cannot find the path specified: 'C:/Users/phill/Downloads/unaltered_img/'",
          "output_type": "error",
          "traceback": [
            "\u001b[1;31m---------------------------------------------------------------------------\u001b[0m",
            "\u001b[1;31mFileNotFoundError\u001b[0m                         Traceback (most recent call last)",
            "\u001b[1;32m<ipython-input-3-a4b00a85843f>\u001b[0m in \u001b[0;36m<module>\u001b[1;34m()\u001b[0m\n\u001b[0;32m      1\u001b[0m \u001b[0mroot_path\u001b[0m \u001b[1;33m=\u001b[0m \u001b[1;34m\"C:/Users/phill/Downloads/unaltered_img/\"\u001b[0m \u001b[1;31m# Root directory of all pokemon sub-directories\u001b[0m\u001b[1;33m\u001b[0m\u001b[0m\n\u001b[1;32m----> 2\u001b[1;33m \u001b[0mpokemons\u001b[0m \u001b[1;33m=\u001b[0m \u001b[0mos\u001b[0m\u001b[1;33m.\u001b[0m\u001b[0mlistdir\u001b[0m\u001b[1;33m(\u001b[0m\u001b[0mroot_path\u001b[0m\u001b[1;33m)\u001b[0m \u001b[1;31m# Gets all pokemon names\u001b[0m\u001b[1;33m\u001b[0m\u001b[0m\n\u001b[0m\u001b[0;32m      3\u001b[0m \u001b[1;33m\u001b[0m\u001b[0m\n\u001b[0;32m      4\u001b[0m \u001b[1;31m# Iterate through each pokemon sub-directory, calling the\u001b[0m\u001b[1;33m\u001b[0m\u001b[1;33m\u001b[0m\u001b[0m\n\u001b[0;32m      5\u001b[0m \u001b[1;31m# resize function on each sub-directory\u001b[0m\u001b[1;33m\u001b[0m\u001b[1;33m\u001b[0m\u001b[0m\n",
            "\u001b[1;31mFileNotFoundError\u001b[0m: [WinError 3] The system cannot find the path specified: 'C:/Users/phill/Downloads/unaltered_img/'"
          ]
        }
      ],
      "source": [
        "root_path = \"C:/Users/phill/Downloads/unaltered_img/\" # Root directory of all pokemon sub-directories\n",
        "pokemons = os.listdir(root_path) # Gets all pokemon names\n",
        "\n",
        "# Iterate through each pokemon sub-directory, calling the \n",
        "# resize function on each sub-directory\n",
        "for pokemon in pokemons:\n",
        "    path = root_path + pokemon + '/'\n",
        "    dirs = os.listdir(path)\n",
        "    resize(200, 200, path, dirs)\n",
        "\n",
        "# TODO: Move all resized files elsewhere"
      ]
    },
    {
      "cell_type": "markdown",
      "metadata": {
        "id": "BFwk4N18yp43"
      },
      "source": [
        "## Working on actual data here"
      ]
    },
    {
      "cell_type": "code",
      "execution_count": null,
      "metadata": {
        "scrolled": true,
        "id": "hnFKPqDmyp44"
      },
      "outputs": [],
      "source": [
        "root_path = \"C:/Users/phill/Desktop/COGS181FinalProject/pokemon-generation-one/dataset/\" # Root directory of all pokemon sub-directories\n",
        "pokemons = os.listdir(root_path)\n",
        "\n",
        "# Iterate through each pokemon sub-directory, calling the \n",
        "# resize function on each sub-directory\n",
        "for pokemon in pokemons:\n",
        "    path = root_path + pokemon + '/'\n",
        "    dirs = os.listdir(path)\n",
        "    print(pokemon + '\\n')\n",
        "    resize(200, 200, path, dirs)"
      ]
    },
    {
      "cell_type": "markdown",
      "metadata": {
        "id": "rz-mY6viyp44"
      },
      "source": [
        "## Image Augmentation"
      ]
    },
    {
      "cell_type": "code",
      "execution_count": null,
      "metadata": {
        "id": "2ul5uE5gyp45",
        "outputId": "33dc25c0-8b25-4e59-ece6-0ee2a516f74f"
      },
      "outputs": [
        {
          "name": "stdout",
          "output_type": "stream",
          "text": [
            "Abra\n",
            "\n"
          ]
        },
        {
          "name": "stderr",
          "output_type": "stream",
          "text": [
            "C:\\Users\\Axiom\\Anaconda3\\lib\\site-packages\\skimage\\util\\dtype.py:130: UserWarning: Possible precision loss when converting from float64 to uint8\n",
            "  .format(dtypeobj_in, dtypeobj_out))\n",
            "C:\\Users\\Axiom\\Anaconda3\\lib\\site-packages\\skimage\\util\\dtype.py:130: UserWarning: Possible precision loss when converting from float64 to uint16\n",
            "  .format(dtypeobj_in, dtypeobj_out))\n"
          ]
        },
        {
          "name": "stdout",
          "output_type": "stream",
          "text": [
            "Aerodactyl\n",
            "\n",
            "Alakazam\n",
            "\n",
            "Arbok\n",
            "\n"
          ]
        }
      ],
      "source": [
        "root_path = \"./pokemon-generation-one/dataset/\" # Root directory of all pokemon sub-directories\n",
        "pokemons = os.listdir(root_path)\n",
        "\n",
        "with warnings.catch_warnings():\n",
        "    warnings.simplefilter(\"ignore\")\n",
        "    io.imsave\n",
        "    \n",
        "# Iterate through each pokemon sub-directory, calling the \n",
        "#Augmenting the original images to create more data\n",
        "for pokemon in pokemons:\n",
        "    path = root_path + pokemon + '/'\n",
        "    dirs = os.listdir(path)\n",
        "    print(pokemon + '\\n')\n",
        "    flip(path, dirs)\n",
        "    aug(path, dirs)\n",
        "\n",
        "\n"
      ]
    },
    {
      "cell_type": "code",
      "execution_count": null,
      "metadata": {
        "id": "OBfccGSRyp46"
      },
      "outputs": [],
      "source": []
    }
  ],
  "metadata": {
    "kernelspec": {
      "display_name": "Python 3",
      "language": "python",
      "name": "python3"
    },
    "language_info": {
      "codemirror_mode": {
        "name": "ipython",
        "version": 3
      },
      "file_extension": ".py",
      "mimetype": "text/x-python",
      "name": "python",
      "nbconvert_exporter": "python",
      "pygments_lexer": "ipython3",
      "version": "3.7.0"
    },
    "colab": {
      "provenance": [],
      "include_colab_link": true
    }
  },
  "nbformat": 4,
  "nbformat_minor": 0
}